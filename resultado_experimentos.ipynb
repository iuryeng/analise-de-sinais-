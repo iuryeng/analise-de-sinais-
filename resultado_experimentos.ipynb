{
 "cells": [
  {
   "cell_type": "code",
   "execution_count": 74,
   "id": "cc760ecb",
   "metadata": {},
   "outputs": [],
   "source": [
    "import librosa\n",
    "import librosa.display\n",
    "import IPython\n",
    "import numpy as np\n",
    "import pandas as pd\n",
    "import scipy as sp\n",
    "import sklearn\n",
    "import matplotlib.pyplot as plt\n",
    "plt.rcParams['figure.dpi'] = 100\n",
    "plt.rcParams['savefig.dpi'] = 600\n",
    "plt.rcParams['font.size'] = 16\n",
    "plt.rcParams['font.family'] = 'sans-serif'\n",
    "plt.rcParams['savefig.transparent'] = True\n",
    "plt.rcParams['savefig.bbox']='tight'"
   ]
  },
  {
   "cell_type": "code",
   "execution_count": 273,
   "id": "d30a18e5",
   "metadata": {},
   "outputs": [],
   "source": [
    "amostra1 = \"amostrasVerbo/f1-l2/\"\n",
    "amostra2 = \"amostrasVerbo/f1-l3/\"\n",
    "amostra3 = \"amostrasVerbo/m1-l2/\"\n",
    "amostra4 = \"amostrasVerbo/m1-l3/\"\n",
    "amostra5 = \"amostrasVerbo/f1-l2/ale\"\n",
    "\n",
    "amostras = [amostra1, amostra2, amostra3, amostra4]\n",
    "ID_sentimentos = ['ale', 'des', 'med', 'neu', 'rai', 'sur', 'tri']\n",
    "sentimentos = ['Alegria', 'Desgosto', 'Medo', 'Neutro', 'Raiva', 'Surpresa', 'Tristeza']\n",
    "caracteristicas = ['zcr', 'rmse', 'ch', 'cp', 'tn', 'ctt', 'sc', 'cg', 'sr', 'mfcc']"
   ]
  },
  {
   "cell_type": "code",
   "execution_count": 75,
   "id": "dda9d6f2",
   "metadata": {},
   "outputs": [],
   "source": [
    "def load_audios(amostra):    \n",
    "    df = pd.DataFrame()\n",
    "    for i in range(7):\n",
    "        x, fa = librosa.load(amostra  + ID_sentimentos[i] +'.wav', duration=2.0)\n",
    "        df[sentimentos[i]] = x\n",
    "    return df, fa"
   ]
  },
  {
   "cell_type": "markdown",
   "id": "020ead4a",
   "metadata": {},
   "source": [
    "### Carregando as amostras"
   ]
  },
  {
   "cell_type": "code",
   "execution_count": 286,
   "id": "f16c14f0",
   "metadata": {},
   "outputs": [
    {
     "name": "stdout",
     "output_type": "stream",
     "text": [
      "Carregando amostra f1-l2\n"
     ]
    },
    {
     "data": {
      "text/plain": [
       "(        Alegria  Desgosto      Medo    Neutro     Raiva  Surpresa  Tristeza\n",
       " 0      0.000139 -0.000563 -0.002435 -0.001144  0.006698 -0.001778 -0.000761\n",
       " 1     -0.000310 -0.000277 -0.002517  0.000370  0.010161 -0.001916 -0.000866\n",
       " 2      0.000133 -0.000537  0.000146  0.001131  0.008416 -0.001298 -0.001503\n",
       " 3      0.000997 -0.000250  0.001190 -0.001837  0.008352 -0.001577 -0.000918\n",
       " 4      0.000918  0.000036  0.001008 -0.003410  0.007362 -0.001558 -0.000063\n",
       " ...         ...       ...       ...       ...       ...       ...       ...\n",
       " 44095 -0.011012  0.014669 -0.025360 -0.142431  0.230200 -0.165488 -0.009439\n",
       " 44096 -0.082881  0.022585 -0.020839 -0.164034  0.254189 -0.179161 -0.009386\n",
       " 44097 -0.090657  0.042842 -0.011911 -0.185117  0.198587 -0.109036 -0.011201\n",
       " 44098 -0.026729  0.069769 -0.012758 -0.193755  0.177555 -0.047627 -0.015241\n",
       " 44099  0.033721  0.110273 -0.007168 -0.212397  0.251990 -0.123199 -0.019711\n",
       " \n",
       " [44100 rows x 7 columns],\n",
       " 22050)"
      ]
     },
     "execution_count": 286,
     "metadata": {},
     "output_type": "execute_result"
    }
   ],
   "source": [
    "print(\"Carregando amostra f1-l2\")\n",
    "load_audios(amostras[0])"
   ]
  },
  {
   "cell_type": "code",
   "execution_count": 78,
   "id": "bcb0e3c5",
   "metadata": {},
   "outputs": [
    {
     "name": "stdout",
     "output_type": "stream",
     "text": [
      "Carregando amostra f1-l3\n"
     ]
    },
    {
     "data": {
      "text/plain": [
       "(        Alegria  Desgosto      Medo    Neutro     Raiva  Surpresa  Tristeza\n",
       " 0      0.000013  0.000269  0.000098  0.000097  0.001685 -0.000970 -0.000413\n",
       " 1      0.000684  0.000099  0.007315 -0.000203  0.003037  0.000589 -0.001601\n",
       " 2      0.002542 -0.000257  0.013563 -0.000388  0.001624  0.003190 -0.000880\n",
       " 3      0.002814 -0.000774  0.012882 -0.000188 -0.000863  0.002977  0.000282\n",
       " 4      0.002979 -0.000350  0.008576 -0.000005 -0.002204  0.001175  0.000619\n",
       " ...         ...       ...       ...       ...       ...       ...       ...\n",
       " 44095  0.023857  0.010836 -0.034662 -0.000052  0.034162 -0.032403 -0.005329\n",
       " 44096  0.008947  0.006935 -0.042594  0.000660  0.009421 -0.048305 -0.006515\n",
       " 44097 -0.032292  0.006803 -0.012867 -0.005550 -0.010900 -0.044272 -0.004828\n",
       " 44098  0.000331  0.002335  0.030006 -0.012402 -0.011402 -0.027859 -0.004432\n",
       " 44099  0.062394  0.000729  0.039601 -0.025427 -0.002027 -0.009213 -0.004597\n",
       " \n",
       " [44100 rows x 7 columns],\n",
       " 22050)"
      ]
     },
     "execution_count": 78,
     "metadata": {},
     "output_type": "execute_result"
    }
   ],
   "source": [
    "print(\"Carregando amostra f1-l3\")\n",
    "load_audios(amostras[1])"
   ]
  },
  {
   "cell_type": "code",
   "execution_count": 79,
   "id": "2718d05c",
   "metadata": {},
   "outputs": [
    {
     "name": "stdout",
     "output_type": "stream",
     "text": [
      "Carregando amostra m1-l2\n"
     ]
    },
    {
     "data": {
      "text/plain": [
       "(        Alegria  Desgosto      Medo    Neutro     Raiva  Surpresa  Tristeza\n",
       " 0      0.002492  0.000771 -0.003528  0.000049 -0.002152  0.002556  0.007997\n",
       " 1      0.004118  0.001670 -0.002753  0.000111 -0.004277  0.001095  0.005507\n",
       " 2      0.007552 -0.000044  0.000407  0.000182 -0.002602  0.000886  0.005306\n",
       " 3      0.003594  0.000327 -0.002255  0.000670 -0.003792  0.006467  0.006779\n",
       " 4      0.001022  0.000163 -0.002732  0.000849 -0.004212  0.006426  0.002584\n",
       " ...         ...       ...       ...       ...       ...       ...       ...\n",
       " 44095  0.090536  0.021912  0.323537 -0.076695 -0.244733 -0.047855 -0.312047\n",
       " 44096  0.062383  0.012481  0.304846 -0.087433 -0.375509 -0.057421 -0.303582\n",
       " 44097  0.043996  0.005669  0.097029 -0.110022 -0.451511 -0.060320 -0.295786\n",
       " 44098  0.002431  0.001624  0.017637 -0.121469 -0.289954  0.003011 -0.274808\n",
       " 44099 -0.043980  0.003289  0.098308 -0.118120 -0.257196  0.009791 -0.274964\n",
       " \n",
       " [44100 rows x 7 columns],\n",
       " 22050)"
      ]
     },
     "execution_count": 79,
     "metadata": {},
     "output_type": "execute_result"
    }
   ],
   "source": [
    "print(\"Carregando amostra m1-l2\")\n",
    "load_audios(amostras[2])"
   ]
  },
  {
   "cell_type": "code",
   "execution_count": 236,
   "id": "f295cc3c",
   "metadata": {},
   "outputs": [
    {
     "name": "stdout",
     "output_type": "stream",
     "text": [
      "Carregando amostra m1-l3\n"
     ]
    },
    {
     "data": {
      "text/plain": [
       "(        Alegria  Desgosto      Medo    Neutro     Raiva  Surpresa  Tristeza\n",
       " 0     -0.001711  0.021995  0.000121  0.001042  0.004952  0.000143  0.003958\n",
       " 1     -0.003222  0.024720 -0.001630  0.000145 -0.000088  0.000156  0.002945\n",
       " 2     -0.003852  0.014752 -0.003733 -0.000009 -0.000558 -0.000106  0.001847\n",
       " 3     -0.003228  0.009486 -0.001669  0.001118 -0.000135 -0.000042  0.005313\n",
       " 4     -0.003524  0.002342 -0.001530  0.001480 -0.002377  0.000043  0.003439\n",
       " ...         ...       ...       ...       ...       ...       ...       ...\n",
       " 44095  0.023362  0.282566  0.080444  0.054408  0.027457 -0.482108 -0.135136\n",
       " 44096  0.029355  0.291701  0.089904 -0.086750 -0.054150 -0.496726 -0.125068\n",
       " 44097  0.010806  0.295283  0.095495 -0.126960 -0.109547 -0.472417 -0.103236\n",
       " 44098  0.008730  0.274696  0.094572  0.202220 -0.132403 -0.410888 -0.074865\n",
       " 44099  0.011929  0.306712  0.114933 -0.066515 -0.084736 -0.397018 -0.053190\n",
       " \n",
       " [44100 rows x 7 columns],\n",
       " 22050)"
      ]
     },
     "execution_count": 236,
     "metadata": {},
     "output_type": "execute_result"
    }
   ],
   "source": [
    "print(\"Carregando amostra m1-l3\")\n",
    "load_audios(amostras[3])\n"
   ]
  },
  {
   "cell_type": "code",
   "execution_count": 81,
   "id": "db5f9a8e",
   "metadata": {},
   "outputs": [],
   "source": [
    "def FRI4SA(dataframe):\n",
    "    sim = 1 - sp.spatial.distance.pdist(dataframe, metric = 'cosine')\n",
    "    return np.abs(sp.stats.median_abs_deviation(sim, scale = 1/1.540681)/np.median(sim))"
   ]
  },
  {
   "cell_type": "code",
   "execution_count": 84,
   "id": "b28e374f",
   "metadata": {},
   "outputs": [],
   "source": [
    "def feat_calc(df, feature, fs):\n",
    "    sentimentos = ['Alegria', 'Desgosto', 'Medo', 'Neutro', 'Raiva', 'Surpresa', 'Tristeza']\n",
    "    df_feat = pd.DataFrame()\n",
    "    for i in range(7):\n",
    "        if feature == 'zcr':\n",
    "            ZCR = librosa.feature.zero_crossing_rate(df[sentimentos[i]].values)\n",
    "            df_feat[sentimentos[i]] = ZCR[0]\n",
    "        elif feature == 'rmse':\n",
    "            RMSE = librosa.feature.rms(df[sentimentos[i]].values)\n",
    "            df_feat[sentimentos[i]] = RMSE[0]\n",
    "        elif feature == 'ch':\n",
    "            CH = librosa.effects.harmonic(df[sentimentos[i]].values)\n",
    "            df_feat[sentimentos[i]] = CH\n",
    "        elif feature == 'cp':\n",
    "            CP = librosa.effects.percussive(df[sentimentos[i]].values)\n",
    "            df_feat[sentimentos[i]] = CP\n",
    "        elif feature == 'tn':\n",
    "            TN = librosa.feature.tonnetz(df[sentimentos[i]].values, sr=fs).flatten()\n",
    "            df_feat[sentimentos[i]] = TN\n",
    "        elif feature == 'ctt':\n",
    "            CTT = librosa.feature.spectral_contrast(df[sentimentos[i]].values).flatten()\n",
    "            df_feat[sentimentos[i]] = CTT\n",
    "        elif feature == 'sc':\n",
    "            SC = librosa.feature.spectral_centroid(df[sentimentos[i]].values)\n",
    "            df_feat[sentimentos[i]] = SC[0]\n",
    "        elif feature == 'cg':\n",
    "            CG = librosa.feature.chroma_stft(df[sentimentos[i]].values)\n",
    "            df_feat[sentimentos[i]] = CG[0]\n",
    "        elif feature == 'sr':\n",
    "            SR = librosa.feature.spectral_rolloff(df[sentimentos[i]].values)\n",
    "            df_feat[sentimentos[i]] = SR[0]\n",
    "        elif feature == 'mfcc':\n",
    "            MFCC = librosa.feature.mfcc(df[sentimentos[i]].values).flatten()\n",
    "            df_feat[sentimentos[i]] = MFCC\n",
    "    return df_feat.T"
   ]
  },
  {
   "cell_type": "code",
   "execution_count": 272,
   "id": "51339614",
   "metadata": {},
   "outputs": [
    {
     "name": "stdout",
     "output_type": "stream",
     "text": [
      "        Alegria  Desgosto      Medo    Neutro     Raiva  Surpresa  Tristeza\n",
      "0      0.000139 -0.000563 -0.002435 -0.001144  0.006698 -0.001778 -0.000761\n",
      "1     -0.000310 -0.000277 -0.002517  0.000370  0.010161 -0.001916 -0.000866\n",
      "2      0.000133 -0.000537  0.000146  0.001131  0.008416 -0.001298 -0.001503\n",
      "3      0.000997 -0.000250  0.001190 -0.001837  0.008352 -0.001577 -0.000918\n",
      "4      0.000918  0.000036  0.001008 -0.003410  0.007362 -0.001558 -0.000063\n",
      "...         ...       ...       ...       ...       ...       ...       ...\n",
      "44095 -0.011012  0.014669 -0.025360 -0.142431  0.230200 -0.165488 -0.009439\n",
      "44096 -0.082881  0.022585 -0.020839 -0.164034  0.254189 -0.179161 -0.009386\n",
      "44097 -0.090657  0.042842 -0.011911 -0.185117  0.198587 -0.109036 -0.011201\n",
      "44098 -0.026729  0.069769 -0.012758 -0.193755  0.177555 -0.047627 -0.015241\n",
      "44099  0.033721  0.110273 -0.007168 -0.212397  0.251990 -0.123199 -0.019711\n",
      "\n",
      "[44100 rows x 7 columns]\n",
      "o indice de relevancia é: 0.17925213097583698\n"
     ]
    }
   ],
   "source": [
    "# Calculando o indice de relevancia de característica  zero cross rate na mostra f1-l2.wav\n",
    "x, fa = load_audios(amostras[0])\n",
    "print(x)\n",
    "resultado = feat_calc(x, 'zcr', fa)\n",
    "print(\"o indice de relevancia é:\",FRI4SA(resultado))\n"
   ]
  },
  {
   "cell_type": "code",
   "execution_count": 248,
   "id": "16ce7b71",
   "metadata": {},
   "outputs": [],
   "source": [
    "# Calculando o indice de relevancia de todas as características para as 4 amostras\n",
    "index = [] # indices de relancia  \n",
    "resultado = pd.DataFrame(index=['zcr', 'rmse', 'ch', 'cp', 'tn', 'ctt', 'sc', 'cg', 'sr', 'mfcc'])\n",
    "for i in range(4):\n",
    "    x, fa = load_audios(amostras[i])\n",
    "    for j in caracteristicas: \n",
    "        index.append(FRI4SA(feat_calc(x, j, fa)))   \n",
    "    \n"
   ]
  },
  {
   "cell_type": "code",
   "execution_count": 249,
   "id": "cf65d9b1",
   "metadata": {},
   "outputs": [
    {
     "name": "stdout",
     "output_type": "stream",
     "text": [
      "[0.17925213097583698, 0.25729598020745825, 26.655620561222154, 212.19085167761105, 5.711442939887002, 0.0101260115755397, 0.06948516582719086, 0.3001992918423692, 0.07928719557970863, 0.04878794698907929, 0.16033015668767364, 0.07951321568518556, 1.3363605148532571, 3.845143622817139, 1.4045576039535845, 0.008418126394431633, 0.09769240051744496, 0.21304160341739953, 0.045313691695894005, 0.08591430983958269, 0.24598731531171308, 0.15979887160079276, 3.1318416204603237, 24.238202931183636, 10.267927542377844, 0.010699177833592763, 0.09710374655747081, 0.10865352889916172, 0.09764181572636753, 0.05236510952345467, 0.33920288437098567, 0.09295637036136245, 38.88962965203924, 5.943250611228048, 4.2425227892844255, 0.004855106623480737, 0.1186898065368387, 0.20008825958098433, 0.07711610336521273, 0.04466640026741273]\n"
     ]
    }
   ],
   "source": [
    "#mostrando o valor de FRI4SA para cada característica de todas as amostras \n",
    "print(index)"
   ]
  },
  {
   "cell_type": "code",
   "execution_count": 216,
   "id": "51a4b625",
   "metadata": {},
   "outputs": [
    {
     "data": {
      "text/plain": [
       "40"
      ]
     },
     "execution_count": 216,
     "metadata": {},
     "output_type": "execute_result"
    }
   ],
   "source": [
    "# conferindo o total de indices\n",
    "len(index)"
   ]
  },
  {
   "cell_type": "code",
   "execution_count": 218,
   "id": "84fd7234",
   "metadata": {},
   "outputs": [],
   "source": [
    "#pegando o indices das amostras( 10 caracteristicas de cada amostra)\n",
    "\n",
    "r_amostra1 = index[0:10]   #f1-l2\n",
    "r_amostra2 = index[10:20]  #f1-l3\n",
    "r_amostra3 = index[20:30]  #m1-l2\n",
    "r_amostra4 = index[30:40]  #m1-l3"
   ]
  },
  {
   "cell_type": "code",
   "execution_count": 252,
   "id": "8ea509c1",
   "metadata": {},
   "outputs": [],
   "source": [
    "#designando as colunas do dataframe\n",
    "resultado[1]=r_amostra1\n",
    "resultado[2]=r_amostra2\n",
    "resultado[3]=r_amostra3\n",
    "resultado[4]=r_amostra4\n"
   ]
  },
  {
   "cell_type": "code",
   "execution_count": 253,
   "id": "e2dcb00b",
   "metadata": {},
   "outputs": [
    {
     "data": {
      "text/html": [
       "<div>\n",
       "<style scoped>\n",
       "    .dataframe tbody tr th:only-of-type {\n",
       "        vertical-align: middle;\n",
       "    }\n",
       "\n",
       "    .dataframe tbody tr th {\n",
       "        vertical-align: top;\n",
       "    }\n",
       "\n",
       "    .dataframe thead th {\n",
       "        text-align: right;\n",
       "    }\n",
       "</style>\n",
       "<table border=\"1\" class=\"dataframe\">\n",
       "  <thead>\n",
       "    <tr style=\"text-align: right;\">\n",
       "      <th></th>\n",
       "      <th>1</th>\n",
       "      <th>2</th>\n",
       "      <th>3</th>\n",
       "      <th>4</th>\n",
       "    </tr>\n",
       "  </thead>\n",
       "  <tbody>\n",
       "    <tr>\n",
       "      <th>zcr</th>\n",
       "      <td>0.179252</td>\n",
       "      <td>0.160330</td>\n",
       "      <td>0.245987</td>\n",
       "      <td>0.339203</td>\n",
       "    </tr>\n",
       "    <tr>\n",
       "      <th>rmse</th>\n",
       "      <td>0.257296</td>\n",
       "      <td>0.079513</td>\n",
       "      <td>0.159799</td>\n",
       "      <td>0.092956</td>\n",
       "    </tr>\n",
       "    <tr>\n",
       "      <th>ch</th>\n",
       "      <td>26.655621</td>\n",
       "      <td>1.336361</td>\n",
       "      <td>3.131842</td>\n",
       "      <td>38.889630</td>\n",
       "    </tr>\n",
       "    <tr>\n",
       "      <th>cp</th>\n",
       "      <td>212.190852</td>\n",
       "      <td>3.845144</td>\n",
       "      <td>24.238203</td>\n",
       "      <td>5.943251</td>\n",
       "    </tr>\n",
       "    <tr>\n",
       "      <th>tn</th>\n",
       "      <td>5.711443</td>\n",
       "      <td>1.404558</td>\n",
       "      <td>10.267928</td>\n",
       "      <td>4.242523</td>\n",
       "    </tr>\n",
       "    <tr>\n",
       "      <th>ctt</th>\n",
       "      <td>0.010126</td>\n",
       "      <td>0.008418</td>\n",
       "      <td>0.010699</td>\n",
       "      <td>0.004855</td>\n",
       "    </tr>\n",
       "    <tr>\n",
       "      <th>sc</th>\n",
       "      <td>0.069485</td>\n",
       "      <td>0.097692</td>\n",
       "      <td>0.097104</td>\n",
       "      <td>0.118690</td>\n",
       "    </tr>\n",
       "    <tr>\n",
       "      <th>cg</th>\n",
       "      <td>0.300199</td>\n",
       "      <td>0.213042</td>\n",
       "      <td>0.108654</td>\n",
       "      <td>0.200088</td>\n",
       "    </tr>\n",
       "    <tr>\n",
       "      <th>sr</th>\n",
       "      <td>0.079287</td>\n",
       "      <td>0.045314</td>\n",
       "      <td>0.097642</td>\n",
       "      <td>0.077116</td>\n",
       "    </tr>\n",
       "    <tr>\n",
       "      <th>mfcc</th>\n",
       "      <td>0.048788</td>\n",
       "      <td>0.085914</td>\n",
       "      <td>0.052365</td>\n",
       "      <td>0.044666</td>\n",
       "    </tr>\n",
       "  </tbody>\n",
       "</table>\n",
       "</div>"
      ],
      "text/plain": [
       "               1         2          3          4\n",
       "zcr     0.179252  0.160330   0.245987   0.339203\n",
       "rmse    0.257296  0.079513   0.159799   0.092956\n",
       "ch     26.655621  1.336361   3.131842  38.889630\n",
       "cp    212.190852  3.845144  24.238203   5.943251\n",
       "tn      5.711443  1.404558  10.267928   4.242523\n",
       "ctt     0.010126  0.008418   0.010699   0.004855\n",
       "sc      0.069485  0.097692   0.097104   0.118690\n",
       "cg      0.300199  0.213042   0.108654   0.200088\n",
       "sr      0.079287  0.045314   0.097642   0.077116\n",
       "mfcc    0.048788  0.085914   0.052365   0.044666"
      ]
     },
     "execution_count": 253,
     "metadata": {},
     "output_type": "execute_result"
    }
   ],
   "source": [
    "#exibindo o resultado na tabela onde 1,2,3,4 são respectivamente \"amostra1, amostra2, amostra3, amostra4\"\n",
    "resultado"
   ]
  },
  {
   "cell_type": "code",
   "execution_count": 265,
   "id": "5c7166b6",
   "metadata": {},
   "outputs": [
    {
     "data": {
      "text/plain": [
       "<AxesSubplot:title={'center':'Amostra 1'}, xlabel='Features', ylabel='FRI4SA'>"
      ]
     },
     "execution_count": 265,
     "metadata": {},
     "output_type": "execute_result"
    },
    {
     "data": {
      "image/png": "[encoded data removed]",
      "text/plain": [
       "<Figure size 600x400 with 1 Axes>"
      ]
     },
     "metadata": {
      "needs_background": "light"
     },
     "output_type": "display_data"
    }
   ],
   "source": [
    "#plotando o gráfico para a amostra 1\n",
    "resultado[1].plot.bar(title=\"Amostra 1\", grid=True, legend=False, xlabel = 'Features', ylabel = 'FRI4SA', fontsize=12, rot=0)    "
   ]
  },
  {
   "cell_type": "code",
   "execution_count": 266,
   "id": "7af8d17d",
   "metadata": {},
   "outputs": [
    {
     "data": {
      "text/plain": [
       "<AxesSubplot:title={'center':'Amostra 2'}, xlabel='Features', ylabel='FRI4SA'>"
      ]
     },
     "execution_count": 266,
     "metadata": {},
     "output_type": "execute_result"
    },
    {
     "data": {
      "image/png": "[encoded data removed]",
      "text/plain": [
       "<Figure size 600x400 with 1 Axes>"
      ]
     },
     "metadata": {
      "needs_background": "light"
     },
     "output_type": "display_data"
    }
   ],
   "source": [
    "resultado[2].plot.bar(title=\"Amostra 2\",grid=True, legend=False, xlabel = 'Features', ylabel = 'FRI4SA', fontsize=12, rot=0)"
   ]
  },
  {
   "cell_type": "code",
   "execution_count": 267,
   "id": "ff0f13f9",
   "metadata": {},
   "outputs": [
    {
     "data": {
      "text/plain": [
       "<AxesSubplot:title={'center':'Amostra 3'}, xlabel='Features', ylabel='FRI4SA'>"
      ]
     },
     "execution_count": 267,
     "metadata": {},
     "output_type": "execute_result"
    },
    {
     "data": {
      "image/png": "[encoded data removed]",
      "text/plain": [
       "<Figure size 600x400 with 1 Axes>"
      ]
     },
     "metadata": {
      "needs_background": "light"
     },
     "output_type": "display_data"
    }
   ],
   "source": [
    "resultado[3].plot.bar(title=\"Amostra 3\",grid=True, legend=False, xlabel = 'Features', ylabel = 'FRI4SA', fontsize=12, rot=0)"
   ]
  },
  {
   "cell_type": "code",
   "execution_count": 268,
   "id": "388a4a32",
   "metadata": {},
   "outputs": [
    {
     "data": {
      "text/plain": [
       "<AxesSubplot:title={'center':'amostra4'}, xlabel='Features', ylabel='FRI4SA'>"
      ]
     },
     "execution_count": 268,
     "metadata": {},
     "output_type": "execute_result"
    },
    {
     "data": {
      "image/png": "[encoded data removed]",
      "text/plain": [
       "<Figure size 600x400 with 1 Axes>"
      ]
     },
     "metadata": {
      "needs_background": "light"
     },
     "output_type": "display_data"
    }
   ],
   "source": [
    "resultado[4].plot.bar(title=\"amostra4\",grid=True, legend=False, xlabel = 'Features', ylabel = 'FRI4SA', fontsize=12, rot=0)"
   ]
  }
 ],
 "metadata": {
  "kernelspec": {
   "display_name": "Python 3",
   "language": "python",
   "name": "python3"
  },
  "language_info": {
   "codemirror_mode": {
    "name": "ipython",
    "version": 3
   },
   "file_extension": ".py",
   "mimetype": "text/x-python",
   "name": "python",
   "nbconvert_exporter": "python",
   "pygments_lexer": "ipython3",
   "version": "3.8.5"
  }
 },
 "nbformat": 4,
 "nbformat_minor": 5
}
